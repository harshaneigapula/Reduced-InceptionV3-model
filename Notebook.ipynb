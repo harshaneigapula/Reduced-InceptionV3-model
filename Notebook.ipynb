{
  "cells": [
    {
      "metadata": {
        "_uuid": "9852b94d02df147084e4f8c79cca4c652e034bcc"
      },
      "cell_type": "markdown",
      "source": "**Deep Neural Network inspired from InceptionV3 model. (+99% Accuracy)**\n\nIntroduction: \n\nThis is a deep neural network model inspired InceptionV3 model. InceptionV3 model is sequential deep convolution neural network model trained for the ImageNet Large Visual Recognition Challenge which achived a top-5 error rate of 3.46%. I modified the original inception V3 model to reduce the complexicity and removed few layers which bought down the number of parameters to train. \n\nI used another MNIST 60K dataset http://yann.lecun.com/exdb/mnist/) and removed the test dataset enteries which are in the train dataset of MNIST. Overall I trained the model with around 77K images. \n\nI also used data agumentation to create more data using the existing dataset of 77K which involves in the operations like Rotation, Zooming, width shifting and height shiffting.  \n\nOverall I achieved 99% when I trained with combination of all the datasets. I hope the accuracy is good enough for the model and beyond it may consider as overfit model. \n\nThis notebook consist of 4 sections. \n*     1) Data Pre processing.\n*     2) InceptionV3 inspired Model creation.\n*     3) Data Augumentation.\n*     4) Results and Predictions. \n\n"
    },
    {
      "metadata": {
        "_uuid": "8f2839f25d086af736a60e9eeb907d3b93b6e0e5",
        "_cell_guid": "b1076dfc-b9ad-4769-8c92-a6c4dae69d19",
        "trusted": true
      },
      "cell_type": "code",
      "source": "import numpy as np # linear algebra\nimport pandas as pd # data processing, CSV file I/O (e.g. pd.read_csv)\n\n# Input data files are available in the \"../input/\" directory.\n# For example, running this (by clicking run or pressing Shift+Enter) will list the files in the input directory\n\nimport os\nprint(os.listdir(\"../input\"))\n\n# Any results you write to the current directory are saved as output.",
      "execution_count": 1,
      "outputs": [
        {
          "output_type": "stream",
          "text": "['digit-recognizer', 'mnist-in-csv']\n",
          "name": "stdout"
        }
      ]
    },
    {
      "metadata": {
        "_uuid": "6bd20888578a3d6598a3b9352dfc4769d1978cf8"
      },
      "cell_type": "markdown",
      "source": "Loading required libraries. \n\nModel was written with Keras API which is running Tensorflow as a Backend. \nImageDataGenerator was used to to manuplate existing data and create new data. "
    },
    {
      "metadata": {
        "_cell_guid": "79c7e3d0-c299-4dcb-8224-4455121ee9b0",
        "_uuid": "d629ff2d2480ee46fbb7e2d37f6b5fab8052498a",
        "trusted": true
      },
      "cell_type": "code",
      "source": "\nfrom keras.models import Model\nfrom keras import layers\nfrom keras import backend as K\n\nfrom keras.preprocessing.image import ImageDataGenerator\n\n#%matplotlib inline\nimport matplotlib.pyplot as plt\nimport matplotlib.cm as cm",
      "execution_count": 2,
      "outputs": [
        {
          "output_type": "stream",
          "text": "Using TensorFlow backend.\n",
          "name": "stderr"
        }
      ]
    },
    {
      "metadata": {
        "trusted": true,
        "_uuid": "3a05f226fa8632829c40e6267c90227e29a57827"
      },
      "cell_type": "code",
      "source": "#defaults: \n# To use additional dataset. \nUSE60KDATASET = True ",
      "execution_count": 3,
      "outputs": []
    },
    {
      "metadata": {
        "_uuid": "bb106ba546a8abeef35d2ed3ccb44a15aac89ef2"
      },
      "cell_type": "markdown",
      "source": "Importing data from CSV. "
    },
    {
      "metadata": {
        "trusted": true,
        "_uuid": "51bc801e46e01280e516f1447d6b410c332be4e5"
      },
      "cell_type": "code",
      "source": "train_df_1 = pd.read_csv('../input/digit-recognizer/train.csv')\ntest_df = pd.read_csv('../input/digit-recognizer/test.csv')\ntrain_df_2 = pd.read_csv('../input/mnist-in-csv/mnist_train.csv')\n\n",
      "execution_count": 4,
      "outputs": []
    },
    {
      "metadata": {
        "trusted": true,
        "_uuid": "4bff6e7e68ad74e79e1896527aed55ff2549f17e"
      },
      "cell_type": "code",
      "source": "train_df_1.head(3)",
      "execution_count": 5,
      "outputs": [
        {
          "output_type": "execute_result",
          "execution_count": 5,
          "data": {
            "text/plain": "   label  pixel0  pixel1    ...     pixel781  pixel782  pixel783\n0      1       0       0    ...            0         0         0\n1      0       0       0    ...            0         0         0\n2      1       0       0    ...            0         0         0\n\n[3 rows x 785 columns]",
            "text/html": "<div>\n<style scoped>\n    .dataframe tbody tr th:only-of-type {\n        vertical-align: middle;\n    }\n\n    .dataframe tbody tr th {\n        vertical-align: top;\n    }\n\n    .dataframe thead th {\n        text-align: right;\n    }\n</style>\n<table border=\"1\" class=\"dataframe\">\n  <thead>\n    <tr style=\"text-align: right;\">\n      <th></th>\n      <th>label</th>\n      <th>pixel0</th>\n      <th>pixel1</th>\n      <th>pixel2</th>\n      <th>pixel3</th>\n      <th>pixel4</th>\n      <th>pixel5</th>\n      <th>pixel6</th>\n      <th>pixel7</th>\n      <th>pixel8</th>\n      <th>pixel9</th>\n      <th>pixel10</th>\n      <th>pixel11</th>\n      <th>pixel12</th>\n      <th>pixel13</th>\n      <th>pixel14</th>\n      <th>pixel15</th>\n      <th>pixel16</th>\n      <th>pixel17</th>\n      <th>pixel18</th>\n      <th>pixel19</th>\n      <th>pixel20</th>\n      <th>pixel21</th>\n      <th>pixel22</th>\n      <th>pixel23</th>\n      <th>pixel24</th>\n      <th>pixel25</th>\n      <th>pixel26</th>\n      <th>pixel27</th>\n      <th>pixel28</th>\n      <th>pixel29</th>\n      <th>pixel30</th>\n      <th>pixel31</th>\n      <th>pixel32</th>\n      <th>pixel33</th>\n      <th>pixel34</th>\n      <th>pixel35</th>\n      <th>pixel36</th>\n      <th>pixel37</th>\n      <th>pixel38</th>\n      <th>...</th>\n      <th>pixel744</th>\n      <th>pixel745</th>\n      <th>pixel746</th>\n      <th>pixel747</th>\n      <th>pixel748</th>\n      <th>pixel749</th>\n      <th>pixel750</th>\n      <th>pixel751</th>\n      <th>pixel752</th>\n      <th>pixel753</th>\n      <th>pixel754</th>\n      <th>pixel755</th>\n      <th>pixel756</th>\n      <th>pixel757</th>\n      <th>pixel758</th>\n      <th>pixel759</th>\n      <th>pixel760</th>\n      <th>pixel761</th>\n      <th>pixel762</th>\n      <th>pixel763</th>\n      <th>pixel764</th>\n      <th>pixel765</th>\n      <th>pixel766</th>\n      <th>pixel767</th>\n      <th>pixel768</th>\n      <th>pixel769</th>\n      <th>pixel770</th>\n      <th>pixel771</th>\n      <th>pixel772</th>\n      <th>pixel773</th>\n      <th>pixel774</th>\n      <th>pixel775</th>\n      <th>pixel776</th>\n      <th>pixel777</th>\n      <th>pixel778</th>\n      <th>pixel779</th>\n      <th>pixel780</th>\n      <th>pixel781</th>\n      <th>pixel782</th>\n      <th>pixel783</th>\n    </tr>\n  </thead>\n  <tbody>\n    <tr>\n      <th>0</th>\n      <td>1</td>\n      <td>0</td>\n      <td>0</td>\n      <td>0</td>\n      <td>0</td>\n      <td>0</td>\n      <td>0</td>\n      <td>0</td>\n      <td>0</td>\n      <td>0</td>\n      <td>0</td>\n      <td>0</td>\n      <td>0</td>\n      <td>0</td>\n      <td>0</td>\n      <td>0</td>\n      <td>0</td>\n      <td>0</td>\n      <td>0</td>\n      <td>0</td>\n      <td>0</td>\n      <td>0</td>\n      <td>0</td>\n      <td>0</td>\n      <td>0</td>\n      <td>0</td>\n      <td>0</td>\n      <td>0</td>\n      <td>0</td>\n      <td>0</td>\n      <td>0</td>\n      <td>0</td>\n      <td>0</td>\n      <td>0</td>\n      <td>0</td>\n      <td>0</td>\n      <td>0</td>\n      <td>0</td>\n      <td>0</td>\n      <td>0</td>\n      <td>...</td>\n      <td>0</td>\n      <td>0</td>\n      <td>0</td>\n      <td>0</td>\n      <td>0</td>\n      <td>0</td>\n      <td>0</td>\n      <td>0</td>\n      <td>0</td>\n      <td>0</td>\n      <td>0</td>\n      <td>0</td>\n      <td>0</td>\n      <td>0</td>\n      <td>0</td>\n      <td>0</td>\n      <td>0</td>\n      <td>0</td>\n      <td>0</td>\n      <td>0</td>\n      <td>0</td>\n      <td>0</td>\n      <td>0</td>\n      <td>0</td>\n      <td>0</td>\n      <td>0</td>\n      <td>0</td>\n      <td>0</td>\n      <td>0</td>\n      <td>0</td>\n      <td>0</td>\n      <td>0</td>\n      <td>0</td>\n      <td>0</td>\n      <td>0</td>\n      <td>0</td>\n      <td>0</td>\n      <td>0</td>\n      <td>0</td>\n      <td>0</td>\n    </tr>\n    <tr>\n      <th>1</th>\n      <td>0</td>\n      <td>0</td>\n      <td>0</td>\n      <td>0</td>\n      <td>0</td>\n      <td>0</td>\n      <td>0</td>\n      <td>0</td>\n      <td>0</td>\n      <td>0</td>\n      <td>0</td>\n      <td>0</td>\n      <td>0</td>\n      <td>0</td>\n      <td>0</td>\n      <td>0</td>\n      <td>0</td>\n      <td>0</td>\n      <td>0</td>\n      <td>0</td>\n      <td>0</td>\n      <td>0</td>\n      <td>0</td>\n      <td>0</td>\n      <td>0</td>\n      <td>0</td>\n      <td>0</td>\n      <td>0</td>\n      <td>0</td>\n      <td>0</td>\n      <td>0</td>\n      <td>0</td>\n      <td>0</td>\n      <td>0</td>\n      <td>0</td>\n      <td>0</td>\n      <td>0</td>\n      <td>0</td>\n      <td>0</td>\n      <td>0</td>\n      <td>...</td>\n      <td>0</td>\n      <td>0</td>\n      <td>0</td>\n      <td>0</td>\n      <td>0</td>\n      <td>0</td>\n      <td>0</td>\n      <td>0</td>\n      <td>0</td>\n      <td>0</td>\n      <td>0</td>\n      <td>0</td>\n      <td>0</td>\n      <td>0</td>\n      <td>0</td>\n      <td>0</td>\n      <td>0</td>\n      <td>0</td>\n      <td>0</td>\n      <td>0</td>\n      <td>0</td>\n      <td>0</td>\n      <td>0</td>\n      <td>0</td>\n      <td>0</td>\n      <td>0</td>\n      <td>0</td>\n      <td>0</td>\n      <td>0</td>\n      <td>0</td>\n      <td>0</td>\n      <td>0</td>\n      <td>0</td>\n      <td>0</td>\n      <td>0</td>\n      <td>0</td>\n      <td>0</td>\n      <td>0</td>\n      <td>0</td>\n      <td>0</td>\n    </tr>\n    <tr>\n      <th>2</th>\n      <td>1</td>\n      <td>0</td>\n      <td>0</td>\n      <td>0</td>\n      <td>0</td>\n      <td>0</td>\n      <td>0</td>\n      <td>0</td>\n      <td>0</td>\n      <td>0</td>\n      <td>0</td>\n      <td>0</td>\n      <td>0</td>\n      <td>0</td>\n      <td>0</td>\n      <td>0</td>\n      <td>0</td>\n      <td>0</td>\n      <td>0</td>\n      <td>0</td>\n      <td>0</td>\n      <td>0</td>\n      <td>0</td>\n      <td>0</td>\n      <td>0</td>\n      <td>0</td>\n      <td>0</td>\n      <td>0</td>\n      <td>0</td>\n      <td>0</td>\n      <td>0</td>\n      <td>0</td>\n      <td>0</td>\n      <td>0</td>\n      <td>0</td>\n      <td>0</td>\n      <td>0</td>\n      <td>0</td>\n      <td>0</td>\n      <td>0</td>\n      <td>...</td>\n      <td>0</td>\n      <td>0</td>\n      <td>0</td>\n      <td>0</td>\n      <td>0</td>\n      <td>0</td>\n      <td>0</td>\n      <td>0</td>\n      <td>0</td>\n      <td>0</td>\n      <td>0</td>\n      <td>0</td>\n      <td>0</td>\n      <td>0</td>\n      <td>0</td>\n      <td>0</td>\n      <td>0</td>\n      <td>0</td>\n      <td>0</td>\n      <td>0</td>\n      <td>0</td>\n      <td>0</td>\n      <td>0</td>\n      <td>0</td>\n      <td>0</td>\n      <td>0</td>\n      <td>0</td>\n      <td>0</td>\n      <td>0</td>\n      <td>0</td>\n      <td>0</td>\n      <td>0</td>\n      <td>0</td>\n      <td>0</td>\n      <td>0</td>\n      <td>0</td>\n      <td>0</td>\n      <td>0</td>\n      <td>0</td>\n      <td>0</td>\n    </tr>\n  </tbody>\n</table>\n</div>"
          },
          "metadata": {}
        }
      ]
    },
    {
      "metadata": {
        "trusted": true,
        "_uuid": "4c9a5e214f486fb115d1165d110be986503a58dd"
      },
      "cell_type": "code",
      "source": "train_df_2.head(3)",
      "execution_count": 6,
      "outputs": [
        {
          "output_type": "execute_result",
          "execution_count": 6,
          "data": {
            "text/plain": "   label  1x1  1x2  1x3  1x4  ...    28x24  28x25  28x26  28x27  28x28\n0      5    0    0    0    0  ...        0      0      0      0      0\n1      0    0    0    0    0  ...        0      0      0      0      0\n2      4    0    0    0    0  ...        0      0      0      0      0\n\n[3 rows x 785 columns]",
            "text/html": "<div>\n<style scoped>\n    .dataframe tbody tr th:only-of-type {\n        vertical-align: middle;\n    }\n\n    .dataframe tbody tr th {\n        vertical-align: top;\n    }\n\n    .dataframe thead th {\n        text-align: right;\n    }\n</style>\n<table border=\"1\" class=\"dataframe\">\n  <thead>\n    <tr style=\"text-align: right;\">\n      <th></th>\n      <th>label</th>\n      <th>1x1</th>\n      <th>1x2</th>\n      <th>1x3</th>\n      <th>1x4</th>\n      <th>1x5</th>\n      <th>1x6</th>\n      <th>1x7</th>\n      <th>1x8</th>\n      <th>1x9</th>\n      <th>1x10</th>\n      <th>1x11</th>\n      <th>1x12</th>\n      <th>1x13</th>\n      <th>1x14</th>\n      <th>1x15</th>\n      <th>1x16</th>\n      <th>1x17</th>\n      <th>1x18</th>\n      <th>1x19</th>\n      <th>1x20</th>\n      <th>1x21</th>\n      <th>1x22</th>\n      <th>1x23</th>\n      <th>1x24</th>\n      <th>1x25</th>\n      <th>1x26</th>\n      <th>1x27</th>\n      <th>1x28</th>\n      <th>2x1</th>\n      <th>2x2</th>\n      <th>2x3</th>\n      <th>2x4</th>\n      <th>2x5</th>\n      <th>2x6</th>\n      <th>2x7</th>\n      <th>2x8</th>\n      <th>2x9</th>\n      <th>2x10</th>\n      <th>2x11</th>\n      <th>...</th>\n      <th>27x17</th>\n      <th>27x18</th>\n      <th>27x19</th>\n      <th>27x20</th>\n      <th>27x21</th>\n      <th>27x22</th>\n      <th>27x23</th>\n      <th>27x24</th>\n      <th>27x25</th>\n      <th>27x26</th>\n      <th>27x27</th>\n      <th>27x28</th>\n      <th>28x1</th>\n      <th>28x2</th>\n      <th>28x3</th>\n      <th>28x4</th>\n      <th>28x5</th>\n      <th>28x6</th>\n      <th>28x7</th>\n      <th>28x8</th>\n      <th>28x9</th>\n      <th>28x10</th>\n      <th>28x11</th>\n      <th>28x12</th>\n      <th>28x13</th>\n      <th>28x14</th>\n      <th>28x15</th>\n      <th>28x16</th>\n      <th>28x17</th>\n      <th>28x18</th>\n      <th>28x19</th>\n      <th>28x20</th>\n      <th>28x21</th>\n      <th>28x22</th>\n      <th>28x23</th>\n      <th>28x24</th>\n      <th>28x25</th>\n      <th>28x26</th>\n      <th>28x27</th>\n      <th>28x28</th>\n    </tr>\n  </thead>\n  <tbody>\n    <tr>\n      <th>0</th>\n      <td>5</td>\n      <td>0</td>\n      <td>0</td>\n      <td>0</td>\n      <td>0</td>\n      <td>0</td>\n      <td>0</td>\n      <td>0</td>\n      <td>0</td>\n      <td>0</td>\n      <td>0</td>\n      <td>0</td>\n      <td>0</td>\n      <td>0</td>\n      <td>0</td>\n      <td>0</td>\n      <td>0</td>\n      <td>0</td>\n      <td>0</td>\n      <td>0</td>\n      <td>0</td>\n      <td>0</td>\n      <td>0</td>\n      <td>0</td>\n      <td>0</td>\n      <td>0</td>\n      <td>0</td>\n      <td>0</td>\n      <td>0</td>\n      <td>0</td>\n      <td>0</td>\n      <td>0</td>\n      <td>0</td>\n      <td>0</td>\n      <td>0</td>\n      <td>0</td>\n      <td>0</td>\n      <td>0</td>\n      <td>0</td>\n      <td>0</td>\n      <td>...</td>\n      <td>0</td>\n      <td>0</td>\n      <td>0</td>\n      <td>0</td>\n      <td>0</td>\n      <td>0</td>\n      <td>0</td>\n      <td>0</td>\n      <td>0</td>\n      <td>0</td>\n      <td>0</td>\n      <td>0</td>\n      <td>0</td>\n      <td>0</td>\n      <td>0</td>\n      <td>0</td>\n      <td>0</td>\n      <td>0</td>\n      <td>0</td>\n      <td>0</td>\n      <td>0</td>\n      <td>0</td>\n      <td>0</td>\n      <td>0</td>\n      <td>0</td>\n      <td>0</td>\n      <td>0</td>\n      <td>0</td>\n      <td>0</td>\n      <td>0</td>\n      <td>0</td>\n      <td>0</td>\n      <td>0</td>\n      <td>0</td>\n      <td>0</td>\n      <td>0</td>\n      <td>0</td>\n      <td>0</td>\n      <td>0</td>\n      <td>0</td>\n    </tr>\n    <tr>\n      <th>1</th>\n      <td>0</td>\n      <td>0</td>\n      <td>0</td>\n      <td>0</td>\n      <td>0</td>\n      <td>0</td>\n      <td>0</td>\n      <td>0</td>\n      <td>0</td>\n      <td>0</td>\n      <td>0</td>\n      <td>0</td>\n      <td>0</td>\n      <td>0</td>\n      <td>0</td>\n      <td>0</td>\n      <td>0</td>\n      <td>0</td>\n      <td>0</td>\n      <td>0</td>\n      <td>0</td>\n      <td>0</td>\n      <td>0</td>\n      <td>0</td>\n      <td>0</td>\n      <td>0</td>\n      <td>0</td>\n      <td>0</td>\n      <td>0</td>\n      <td>0</td>\n      <td>0</td>\n      <td>0</td>\n      <td>0</td>\n      <td>0</td>\n      <td>0</td>\n      <td>0</td>\n      <td>0</td>\n      <td>0</td>\n      <td>0</td>\n      <td>0</td>\n      <td>...</td>\n      <td>0</td>\n      <td>0</td>\n      <td>0</td>\n      <td>0</td>\n      <td>0</td>\n      <td>0</td>\n      <td>0</td>\n      <td>0</td>\n      <td>0</td>\n      <td>0</td>\n      <td>0</td>\n      <td>0</td>\n      <td>0</td>\n      <td>0</td>\n      <td>0</td>\n      <td>0</td>\n      <td>0</td>\n      <td>0</td>\n      <td>0</td>\n      <td>0</td>\n      <td>0</td>\n      <td>0</td>\n      <td>0</td>\n      <td>0</td>\n      <td>0</td>\n      <td>0</td>\n      <td>0</td>\n      <td>0</td>\n      <td>0</td>\n      <td>0</td>\n      <td>0</td>\n      <td>0</td>\n      <td>0</td>\n      <td>0</td>\n      <td>0</td>\n      <td>0</td>\n      <td>0</td>\n      <td>0</td>\n      <td>0</td>\n      <td>0</td>\n    </tr>\n    <tr>\n      <th>2</th>\n      <td>4</td>\n      <td>0</td>\n      <td>0</td>\n      <td>0</td>\n      <td>0</td>\n      <td>0</td>\n      <td>0</td>\n      <td>0</td>\n      <td>0</td>\n      <td>0</td>\n      <td>0</td>\n      <td>0</td>\n      <td>0</td>\n      <td>0</td>\n      <td>0</td>\n      <td>0</td>\n      <td>0</td>\n      <td>0</td>\n      <td>0</td>\n      <td>0</td>\n      <td>0</td>\n      <td>0</td>\n      <td>0</td>\n      <td>0</td>\n      <td>0</td>\n      <td>0</td>\n      <td>0</td>\n      <td>0</td>\n      <td>0</td>\n      <td>0</td>\n      <td>0</td>\n      <td>0</td>\n      <td>0</td>\n      <td>0</td>\n      <td>0</td>\n      <td>0</td>\n      <td>0</td>\n      <td>0</td>\n      <td>0</td>\n      <td>0</td>\n      <td>...</td>\n      <td>0</td>\n      <td>0</td>\n      <td>0</td>\n      <td>0</td>\n      <td>0</td>\n      <td>0</td>\n      <td>0</td>\n      <td>0</td>\n      <td>0</td>\n      <td>0</td>\n      <td>0</td>\n      <td>0</td>\n      <td>0</td>\n      <td>0</td>\n      <td>0</td>\n      <td>0</td>\n      <td>0</td>\n      <td>0</td>\n      <td>0</td>\n      <td>0</td>\n      <td>0</td>\n      <td>0</td>\n      <td>0</td>\n      <td>0</td>\n      <td>0</td>\n      <td>0</td>\n      <td>0</td>\n      <td>0</td>\n      <td>0</td>\n      <td>0</td>\n      <td>0</td>\n      <td>0</td>\n      <td>0</td>\n      <td>0</td>\n      <td>0</td>\n      <td>0</td>\n      <td>0</td>\n      <td>0</td>\n      <td>0</td>\n      <td>0</td>\n    </tr>\n  </tbody>\n</table>\n</div>"
          },
          "metadata": {}
        }
      ]
    },
    {
      "metadata": {
        "_uuid": "69c393379278af0deaafc8a9345db82c80c63d96"
      },
      "cell_type": "markdown",
      "source": "Column labels of both the datasets doesn't match. To concatinate both the datasets column labels has to be same. So Changing the column labels of the train_df_2 to make it same as train_df_1."
    },
    {
      "metadata": {
        "trusted": true,
        "_uuid": "b9d8669d0c4f609c2931e1d565fe425246e21f01"
      },
      "cell_type": "code",
      "source": "\ntrain_df_2.columns = train_df_1.columns\nif USE60KDATASET:\n    train_df = pd.concat([train_df_1,train_df_2])\nelse:\n    train_df = train_df_1 \n\ntrain_df.shape",
      "execution_count": 7,
      "outputs": [
        {
          "output_type": "execute_result",
          "execution_count": 7,
          "data": {
            "text/plain": "(102000, 785)"
          },
          "metadata": {}
        }
      ]
    },
    {
      "metadata": {
        "_uuid": "aea3c1c17830fe4ff01540b2c4a0ceb2fd3ba0c2"
      },
      "cell_type": "markdown",
      "source": "Check data for any null values"
    },
    {
      "metadata": {
        "trusted": true,
        "_uuid": "14fdb8ff226df60f7420842e287a53382e244125"
      },
      "cell_type": "code",
      "source": "train_df.isnull().any().describe()",
      "execution_count": 8,
      "outputs": [
        {
          "output_type": "execute_result",
          "execution_count": 8,
          "data": {
            "text/plain": "count       785\nunique        1\ntop       False\nfreq        785\ndtype: object"
          },
          "metadata": {}
        }
      ]
    },
    {
      "metadata": {
        "trusted": true,
        "scrolled": true,
        "_uuid": "a676a6532a452230e10c378c4d7b2b1e64811536"
      },
      "cell_type": "code",
      "source": "test_df.isnull().any().describe()",
      "execution_count": 9,
      "outputs": [
        {
          "output_type": "execute_result",
          "execution_count": 9,
          "data": {
            "text/plain": "count       784\nunique        1\ntop       False\nfreq        784\ndtype: object"
          },
          "metadata": {}
        }
      ]
    },
    {
      "metadata": {
        "_uuid": "09f8f62516ac4d83c7cee1d88169acac6fda6aca"
      },
      "cell_type": "markdown",
      "source": "There is no null values in the dataset. "
    },
    {
      "metadata": {
        "_uuid": "2859c3dd882f503ba0bde85daab613127930d1ab"
      },
      "cell_type": "markdown",
      "source": "60K dataset contains some data which is present in test set. So removing the entries from the train set. "
    },
    {
      "metadata": {
        "trusted": true,
        "_uuid": "27f8c5abcb16a089bdc7bcd29316bdda36835861"
      },
      "cell_type": "code",
      "source": "leftjoin = pd.merge(train_df, test_df, how='left',indicator=True)\ntrain_df = leftjoin[leftjoin['_merge'] == 'left_only'].drop(columns=['_merge'])\n\ntrain_df.shape",
      "execution_count": 10,
      "outputs": [
        {
          "output_type": "execute_result",
          "execution_count": 10,
          "data": {
            "text/plain": "(77985, 785)"
          },
          "metadata": {}
        }
      ]
    },
    {
      "metadata": {
        "_uuid": "274c88598e08f99e1b1f2066d162629cfbf68684"
      },
      "cell_type": "markdown",
      "source": "Extracting train labels and image data from dataset. "
    },
    {
      "metadata": {
        "trusted": true,
        "_uuid": "b51ca0622271567400f3df8026fadf109a171e54"
      },
      "cell_type": "code",
      "source": "train_label = train_df.iloc[:,0].reset_index().iloc[:,1:]\ntrain_in = train_df.iloc[:,1:].reset_index().iloc[:,1:]\n",
      "execution_count": 11,
      "outputs": []
    },
    {
      "metadata": {
        "_uuid": "1f738f3d315290d66b2bf15e79553066616325b4"
      },
      "cell_type": "markdown",
      "source": "Normalization of data to 0 to 1 from 0 to 255. "
    },
    {
      "metadata": {
        "trusted": true,
        "_uuid": "6328b640842e9050925acb529c178c7fa6db9972"
      },
      "cell_type": "code",
      "source": "train_in = train_in/255\ntest_in = test_df/255",
      "execution_count": 12,
      "outputs": []
    },
    {
      "metadata": {
        "_uuid": "e034ad41323c2bff445bb7265d00751faee22d37"
      },
      "cell_type": "markdown",
      "source": "Reshaping the image array from  784 to 28X28 "
    },
    {
      "metadata": {
        "trusted": true,
        "_uuid": "bc2a12d6c0b40ac964c71c0c662d22fe48bed45c"
      },
      "cell_type": "code",
      "source": "train_in = np.asarray([x.reshape(28,28,1)for x in train_in.values])\ntest_in = np.asarray([x.reshape(28,28,1)for x in test_in.values])",
      "execution_count": 13,
      "outputs": []
    },
    {
      "metadata": {
        "_uuid": "e537d7217aef7c34d73eb496ad97cd1281be8181"
      },
      "cell_type": "markdown",
      "source": "One-Hot encoding the train labels"
    },
    {
      "metadata": {
        "trusted": true,
        "_uuid": "16f67fe76ad83bf279a47ac527f867002bc2b206"
      },
      "cell_type": "code",
      "source": "labels_flat = train_label.label.ravel()\n\nlabels_one_hot_test = np.zeros((labels_flat.shape[0], 10))\nhh = (np.arange(labels_flat.shape[0])*10 + labels_flat.ravel()).astype(int)\n\nlabels_one_hot_test.flat[hh] = 1",
      "execution_count": 14,
      "outputs": []
    },
    {
      "metadata": {
        "_uuid": "27b0e49bca9a85ef2f98bd1a0a77aa870c92d679"
      },
      "cell_type": "markdown",
      "source": "Model Creation\n\nUtility function to apply convolution and batch normalization. "
    },
    {
      "metadata": {
        "trusted": true,
        "_uuid": "4c90783816d52efd36b0110ca5aec6e9765b78bd"
      },
      "cell_type": "code",
      "source": "if K.image_data_format() == 'channels_first':\n    channel_axis = 1\nelse:\n    channel_axis = 3",
      "execution_count": 19,
      "outputs": []
    },
    {
      "metadata": {
        "trusted": true,
        "_uuid": "118ab11f441fc76660ff123645075ca810de85dc"
      },
      "cell_type": "code",
      "source": "def conv2d_bn(x,\n              filters,\n              num_row,\n              num_col,\n              padding='same',\n              strides=(1, 1),\n              name=None):\n    \"\"\"Utility function to apply conv + BN.\n\n    # Arguments\n        x: input tensor.\n        filters: filters in `Conv2D`.\n        num_row: height of the convolution kernel.\n        num_col: width of the convolution kernel.\n        padding: padding mode in `Conv2D`.\n        strides: strides in `Conv2D`.\n        name: name of the ops; will become `name + '_conv'`\n            for the convolution and `name + '_bn'` for the\n            batch norm layer.\n\n    # Returns\n        Output tensor after applying `Conv2D` and `BatchNormalization`.\n    \"\"\"\n    if name is not None:\n        bn_name = name + '_bn'\n        conv_name = name + '_conv'\n    else:\n        bn_name = None\n        conv_name = None\n    if K.image_data_format() == 'channels_first':\n        bn_axis = 1\n    else:\n        bn_axis = 3\n    x = layers.Conv2D(\n        filters, (num_row, num_col),\n        strides=strides,\n        padding=padding,\n        use_bias=False,\n        name=conv_name)(x)\n    x = layers.BatchNormalization(axis=bn_axis, scale=False, name=bn_name)(x)\n    x = layers.Activation('relu', name=name)(x)\n    return x\n\n",
      "execution_count": 15,
      "outputs": []
    },
    {
      "metadata": {
        "_uuid": "52c647f7a0de06a98b7f437912df266ac76ac0d4"
      },
      "cell_type": "markdown",
      "source": "Inception V3 Model:\n\nIntial V3 Model: \n![Original](https://github.com/harshaneigapula/Reduced-InceptionV3-model/blob/master/Original.png?raw=true)\n\nModifed V3 Model: \n\nTo decrease the complexcity of the model, removed some of the loops in the model. Which results as below:  \n\n![After](https://github.com/harshaneigapula/Reduced-InceptionV3-model/blob/master/After.jpg?raw=true)"
    },
    {
      "metadata": {
        "trusted": true,
        "_uuid": "a0d3b5e586a37066a8ef3326ba5840c3d1ff3cb2"
      },
      "cell_type": "code",
      "source": "input_tensor = layers.Input(shape=(28,28,1))\n\nx = conv2d_bn(input_tensor, 4, 3, 3, strides=(1, 1), padding='valid')\nx = conv2d_bn(x, 4, 3, 3, padding='valid')\nx = conv2d_bn(x, 8, 3, 3, padding='valid')\nx = layers.MaxPooling2D((3, 3), strides=(1, 1))(x)\n\nx = conv2d_bn(x, 12, 1, 1, padding='valid')\nx = conv2d_bn(x, 32, 3, 3, padding='valid')\nx = layers.MaxPooling2D((3, 3), strides=(1, 1))(x)\n\n\nbranch1x1 = conv2d_bn(x, 8, 1, 1,padding='valid')   # 1,1\n\nbranch5x5 = conv2d_bn(x, 6, 1, 1,padding='valid') # 1,1\nbranch5x5 = conv2d_bn(branch5x5, 8, 5, 5) # 5,5 \n\nbranch3x3dbl = conv2d_bn(x, 8, 1, 1,padding='valid') # 1,1\nbranch3x3dbl = conv2d_bn(branch3x3dbl, 12, 3, 3)\nbranch3x3dbl = conv2d_bn(branch3x3dbl, 12, 3, 3)\n\nbranch_pool = layers.AveragePooling2D((3, 3),  strides=(1, 1),  padding='same')(x)\nbranch_pool = conv2d_bn(branch_pool, 4, 1, 1)\nx = layers.concatenate([branch1x1, branch5x5, branch3x3dbl, branch_pool], axis=channel_axis,name='mixed0')\n\n\nbranch3x3 = conv2d_bn(x, 32, 3, 3, strides=(2, 2), padding='valid')\n\nbranch3x3dbl = conv2d_bn(x, 8, 1, 1)\nbranch3x3dbl = conv2d_bn(branch3x3dbl, 12, 3, 3)\nbranch3x3dbl = conv2d_bn(\n    branch3x3dbl, 12, 3, 3, strides=(2, 2), padding='valid')\n\nbranch_pool = layers.MaxPooling2D((3, 3), strides=(2, 2))(x)\nx = layers.concatenate(\n    [branch3x3, branch3x3dbl, branch_pool],\n    axis=channel_axis,\n    name='mixed1')\n\n\nbranch1x1 = conv2d_bn(x, 32, 1, 1,padding='valid') # 1 1\n\nbranch7x7 = conv2d_bn(x, 16, 1, 1,padding='valid') # 1 1\nbranch7x7 = conv2d_bn(branch7x7, 16, 1, 7)\nbranch7x7 = conv2d_bn(branch7x7, 32, 7, 1)\n\nbranch7x7dbl = conv2d_bn(x, 16, 1, 1,padding='valid') # 1 1\nbranch7x7dbl = conv2d_bn(branch7x7dbl, 16, 7, 1)\nbranch7x7dbl = conv2d_bn(branch7x7dbl, 16, 1, 7)\nbranch7x7dbl = conv2d_bn(branch7x7dbl, 16, 7, 1)\nbranch7x7dbl = conv2d_bn(branch7x7dbl, 32, 1, 7)\n\nbranch_pool = layers.AveragePooling2D((3, 3),\n                                      strides=(1, 1 ),\n                                      padding='same')(x)\nbranch_pool = conv2d_bn(branch_pool, 32, 1, 1,padding='valid') # 1 1\nx = layers.concatenate(\n    [branch1x1, branch7x7, branch7x7dbl, branch_pool],\n    axis=channel_axis,\n    name='mixed2')\n\n\nbranch3x3 = conv2d_bn(x, 32, 1, 1,padding='valid') # 1 1\nbranch3x3 = conv2d_bn(branch3x3, 64, 3, 3,\n                      strides=(2, 2), padding='valid')\n\nbranch7x7x3 = conv2d_bn(x, 32, 1, 1,padding='valid') # 1 1\nbranch7x7x3 = conv2d_bn(branch7x7x3, 32, 1, 7)\nbranch7x7x3 = conv2d_bn(branch7x7x3, 32, 7, 1)\nbranch7x7x3 = conv2d_bn(\n    branch7x7x3, 32, 3, 3, strides=(2, 2), padding='valid')\n\nbranch_pool = layers.MaxPooling2D((3, 3), strides=(2, 2),padding='valid')(x) # strides 2 2\nx = layers.concatenate(\n    [branch3x3, branch7x7x3, branch_pool],\n    axis=channel_axis,\n    name='mixed3')\n\n\n\nbranch1x1 = conv2d_bn(x, 32, 1, 1,padding='valid',name='validcheck') # 1 1\n\nbranch3x3 = conv2d_bn(x, 32, 1, 1,padding='valid')\nbranch3x3_1 = conv2d_bn(branch3x3, 32, 1, 3)\nbranch3x3_2 = conv2d_bn(branch3x3, 32, 3, 1)\nbranch3x3 = layers.concatenate(\n    [branch3x3_1, branch3x3_2],\n    axis=channel_axis,\n    name='mixed4')\n\nbranch3x3dbl = conv2d_bn(x, 32, 1, 1,padding='valid')\nbranch3x3dbl = conv2d_bn(branch3x3dbl, 32, 3, 3)\nbranch3x3dbl_1 = conv2d_bn(branch3x3dbl, 32, 1, 3)\nbranch3x3dbl_2 = conv2d_bn(branch3x3dbl, 32, 3, 1)\nbranch3x3dbl = layers.concatenate(\n    [branch3x3dbl_1, branch3x3dbl_2], axis=channel_axis)\n\nbranch_pool = layers.AveragePooling2D(\n    (3, 3), strides=(1, 1), padding='same')(x)\nbranch_pool = conv2d_bn(branch_pool, 32, 1, 1,padding='valid') # 1 1 \nx = layers.concatenate(\n    [branch1x1, branch3x3, branch3x3dbl, branch_pool],\n    axis=channel_axis,\n    name='mixed5')\n        \n      \nx = layers.AveragePooling2D(\n    (3, 3), strides=(1, 1), padding='valid')(x)\nx = layers.Dropout(0.01)(x)\nx = layers.GlobalAveragePooling2D(name='avg_pool')(x)\nx = layers.Dense(64, activation = \"relu\")(x)\nx = layers.Dense(10, activation='softmax', name='predictions')(x)",
      "execution_count": 25,
      "outputs": []
    },
    {
      "metadata": {
        "trusted": true,
        "_uuid": "3f08c341125392c99c76aa56e361f94be4168f1e"
      },
      "cell_type": "code",
      "source": "model = Model(input_tensor, x)\nmodel.summary()",
      "execution_count": 26,
      "outputs": [
        {
          "output_type": "stream",
          "text": "__________________________________________________________________________________________________\nLayer (type)                    Output Shape         Param #     Connected to                     \n==================================================================================================\ninput_4 (InputLayer)            (None, 28, 28, 1)    0                                            \n__________________________________________________________________________________________________\nconv2d_93 (Conv2D)              (None, 26, 26, 4)    36          input_4[0][0]                    \n__________________________________________________________________________________________________\nbatch_normalization_93 (BatchNo (None, 26, 26, 4)    12          conv2d_93[0][0]                  \n__________________________________________________________________________________________________\nactivation_93 (Activation)      (None, 26, 26, 4)    0           batch_normalization_93[0][0]     \n__________________________________________________________________________________________________\nconv2d_94 (Conv2D)              (None, 24, 24, 4)    144         activation_93[0][0]              \n__________________________________________________________________________________________________\nbatch_normalization_94 (BatchNo (None, 24, 24, 4)    12          conv2d_94[0][0]                  \n__________________________________________________________________________________________________\nactivation_94 (Activation)      (None, 24, 24, 4)    0           batch_normalization_94[0][0]     \n__________________________________________________________________________________________________\nconv2d_95 (Conv2D)              (None, 22, 22, 8)    288         activation_94[0][0]              \n__________________________________________________________________________________________________\nbatch_normalization_95 (BatchNo (None, 22, 22, 8)    24          conv2d_95[0][0]                  \n__________________________________________________________________________________________________\nactivation_95 (Activation)      (None, 22, 22, 8)    0           batch_normalization_95[0][0]     \n__________________________________________________________________________________________________\nmax_pooling2d_11 (MaxPooling2D) (None, 20, 20, 8)    0           activation_95[0][0]              \n__________________________________________________________________________________________________\nconv2d_96 (Conv2D)              (None, 20, 20, 12)   96          max_pooling2d_11[0][0]           \n__________________________________________________________________________________________________\nbatch_normalization_96 (BatchNo (None, 20, 20, 12)   36          conv2d_96[0][0]                  \n__________________________________________________________________________________________________\nactivation_96 (Activation)      (None, 20, 20, 12)   0           batch_normalization_96[0][0]     \n__________________________________________________________________________________________________\nconv2d_97 (Conv2D)              (None, 18, 18, 32)   3456        activation_96[0][0]              \n__________________________________________________________________________________________________\nbatch_normalization_97 (BatchNo (None, 18, 18, 32)   96          conv2d_97[0][0]                  \n__________________________________________________________________________________________________\nactivation_97 (Activation)      (None, 18, 18, 32)   0           batch_normalization_97[0][0]     \n__________________________________________________________________________________________________\nmax_pooling2d_12 (MaxPooling2D) (None, 16, 16, 32)   0           activation_97[0][0]              \n__________________________________________________________________________________________________\nconv2d_101 (Conv2D)             (None, 16, 16, 8)    256         max_pooling2d_12[0][0]           \n__________________________________________________________________________________________________\nbatch_normalization_101 (BatchN (None, 16, 16, 8)    24          conv2d_101[0][0]                 \n__________________________________________________________________________________________________\nactivation_101 (Activation)     (None, 16, 16, 8)    0           batch_normalization_101[0][0]    \n__________________________________________________________________________________________________\nconv2d_99 (Conv2D)              (None, 16, 16, 6)    192         max_pooling2d_12[0][0]           \n__________________________________________________________________________________________________\nconv2d_102 (Conv2D)             (None, 16, 16, 12)   864         activation_101[0][0]             \n__________________________________________________________________________________________________\nbatch_normalization_99 (BatchNo (None, 16, 16, 6)    18          conv2d_99[0][0]                  \n__________________________________________________________________________________________________\nbatch_normalization_102 (BatchN (None, 16, 16, 12)   36          conv2d_102[0][0]                 \n__________________________________________________________________________________________________\nactivation_99 (Activation)      (None, 16, 16, 6)    0           batch_normalization_99[0][0]     \n__________________________________________________________________________________________________\nactivation_102 (Activation)     (None, 16, 16, 12)   0           batch_normalization_102[0][0]    \n__________________________________________________________________________________________________\naverage_pooling2d_10 (AveragePo (None, 16, 16, 32)   0           max_pooling2d_12[0][0]           \n__________________________________________________________________________________________________\nconv2d_98 (Conv2D)              (None, 16, 16, 8)    256         max_pooling2d_12[0][0]           \n__________________________________________________________________________________________________\nconv2d_100 (Conv2D)             (None, 16, 16, 8)    1200        activation_99[0][0]              \n__________________________________________________________________________________________________\nconv2d_103 (Conv2D)             (None, 16, 16, 12)   1296        activation_102[0][0]             \n__________________________________________________________________________________________________\nconv2d_104 (Conv2D)             (None, 16, 16, 4)    128         average_pooling2d_10[0][0]       \n__________________________________________________________________________________________________\nbatch_normalization_98 (BatchNo (None, 16, 16, 8)    24          conv2d_98[0][0]                  \n__________________________________________________________________________________________________\nbatch_normalization_100 (BatchN (None, 16, 16, 8)    24          conv2d_100[0][0]                 \n__________________________________________________________________________________________________\nbatch_normalization_103 (BatchN (None, 16, 16, 12)   36          conv2d_103[0][0]                 \n__________________________________________________________________________________________________\nbatch_normalization_104 (BatchN (None, 16, 16, 4)    12          conv2d_104[0][0]                 \n__________________________________________________________________________________________________\nactivation_98 (Activation)      (None, 16, 16, 8)    0           batch_normalization_98[0][0]     \n__________________________________________________________________________________________________\nactivation_100 (Activation)     (None, 16, 16, 8)    0           batch_normalization_100[0][0]    \n__________________________________________________________________________________________________\nactivation_103 (Activation)     (None, 16, 16, 12)   0           batch_normalization_103[0][0]    \n__________________________________________________________________________________________________\nactivation_104 (Activation)     (None, 16, 16, 4)    0           batch_normalization_104[0][0]    \n__________________________________________________________________________________________________\nmixed0 (Concatenate)            (None, 16, 16, 32)   0           activation_98[0][0]              \n                                                                 activation_100[0][0]             \n                                                                 activation_103[0][0]             \n                                                                 activation_104[0][0]             \n__________________________________________________________________________________________________\nconv2d_106 (Conv2D)             (None, 16, 16, 8)    256         mixed0[0][0]                     \n__________________________________________________________________________________________________\nbatch_normalization_106 (BatchN (None, 16, 16, 8)    24          conv2d_106[0][0]                 \n__________________________________________________________________________________________________\nactivation_106 (Activation)     (None, 16, 16, 8)    0           batch_normalization_106[0][0]    \n__________________________________________________________________________________________________\nconv2d_107 (Conv2D)             (None, 16, 16, 12)   864         activation_106[0][0]             \n__________________________________________________________________________________________________\nbatch_normalization_107 (BatchN (None, 16, 16, 12)   36          conv2d_107[0][0]                 \n__________________________________________________________________________________________________\nactivation_107 (Activation)     (None, 16, 16, 12)   0           batch_normalization_107[0][0]    \n__________________________________________________________________________________________________\nconv2d_105 (Conv2D)             (None, 7, 7, 32)     9216        mixed0[0][0]                     \n__________________________________________________________________________________________________\nconv2d_108 (Conv2D)             (None, 7, 7, 12)     1296        activation_107[0][0]             \n__________________________________________________________________________________________________\nbatch_normalization_105 (BatchN (None, 7, 7, 32)     96          conv2d_105[0][0]                 \n__________________________________________________________________________________________________\nbatch_normalization_108 (BatchN (None, 7, 7, 12)     36          conv2d_108[0][0]                 \n__________________________________________________________________________________________________\nactivation_105 (Activation)     (None, 7, 7, 32)     0           batch_normalization_105[0][0]    \n__________________________________________________________________________________________________\nactivation_108 (Activation)     (None, 7, 7, 12)     0           batch_normalization_108[0][0]    \n__________________________________________________________________________________________________\nmax_pooling2d_13 (MaxPooling2D) (None, 7, 7, 32)     0           mixed0[0][0]                     \n__________________________________________________________________________________________________\nmixed1 (Concatenate)            (None, 7, 7, 76)     0           activation_105[0][0]             \n                                                                 activation_108[0][0]             \n                                                                 max_pooling2d_13[0][0]           \n__________________________________________________________________________________________________\nconv2d_113 (Conv2D)             (None, 7, 7, 16)     1216        mixed1[0][0]                     \n__________________________________________________________________________________________________\nbatch_normalization_113 (BatchN (None, 7, 7, 16)     48          conv2d_113[0][0]                 \n__________________________________________________________________________________________________\nactivation_113 (Activation)     (None, 7, 7, 16)     0           batch_normalization_113[0][0]    \n__________________________________________________________________________________________________\nconv2d_114 (Conv2D)             (None, 7, 7, 16)     1792        activation_113[0][0]             \n__________________________________________________________________________________________________\nbatch_normalization_114 (BatchN (None, 7, 7, 16)     48          conv2d_114[0][0]                 \n__________________________________________________________________________________________________\nactivation_114 (Activation)     (None, 7, 7, 16)     0           batch_normalization_114[0][0]    \n__________________________________________________________________________________________________\nconv2d_110 (Conv2D)             (None, 7, 7, 16)     1216        mixed1[0][0]                     \n__________________________________________________________________________________________________\nconv2d_115 (Conv2D)             (None, 7, 7, 16)     1792        activation_114[0][0]             \n__________________________________________________________________________________________________\nbatch_normalization_110 (BatchN (None, 7, 7, 16)     48          conv2d_110[0][0]                 \n__________________________________________________________________________________________________\nbatch_normalization_115 (BatchN (None, 7, 7, 16)     48          conv2d_115[0][0]                 \n__________________________________________________________________________________________________\nactivation_110 (Activation)     (None, 7, 7, 16)     0           batch_normalization_110[0][0]    \n__________________________________________________________________________________________________\nactivation_115 (Activation)     (None, 7, 7, 16)     0           batch_normalization_115[0][0]    \n__________________________________________________________________________________________________\nconv2d_111 (Conv2D)             (None, 7, 7, 16)     1792        activation_110[0][0]             \n__________________________________________________________________________________________________\nconv2d_116 (Conv2D)             (None, 7, 7, 16)     1792        activation_115[0][0]             \n__________________________________________________________________________________________________\nbatch_normalization_111 (BatchN (None, 7, 7, 16)     48          conv2d_111[0][0]                 \n__________________________________________________________________________________________________\nbatch_normalization_116 (BatchN (None, 7, 7, 16)     48          conv2d_116[0][0]                 \n__________________________________________________________________________________________________\nactivation_111 (Activation)     (None, 7, 7, 16)     0           batch_normalization_111[0][0]    \n__________________________________________________________________________________________________\nactivation_116 (Activation)     (None, 7, 7, 16)     0           batch_normalization_116[0][0]    \n__________________________________________________________________________________________________\naverage_pooling2d_11 (AveragePo (None, 7, 7, 76)     0           mixed1[0][0]                     \n__________________________________________________________________________________________________\nconv2d_109 (Conv2D)             (None, 7, 7, 32)     2432        mixed1[0][0]                     \n__________________________________________________________________________________________________\nconv2d_112 (Conv2D)             (None, 7, 7, 32)     3584        activation_111[0][0]             \n__________________________________________________________________________________________________\nconv2d_117 (Conv2D)             (None, 7, 7, 32)     3584        activation_116[0][0]             \n__________________________________________________________________________________________________\nconv2d_118 (Conv2D)             (None, 7, 7, 32)     2432        average_pooling2d_11[0][0]       \n__________________________________________________________________________________________________\nbatch_normalization_109 (BatchN (None, 7, 7, 32)     96          conv2d_109[0][0]                 \n__________________________________________________________________________________________________\nbatch_normalization_112 (BatchN (None, 7, 7, 32)     96          conv2d_112[0][0]                 \n__________________________________________________________________________________________________\nbatch_normalization_117 (BatchN (None, 7, 7, 32)     96          conv2d_117[0][0]                 \n__________________________________________________________________________________________________\nbatch_normalization_118 (BatchN (None, 7, 7, 32)     96          conv2d_118[0][0]                 \n__________________________________________________________________________________________________\nactivation_109 (Activation)     (None, 7, 7, 32)     0           batch_normalization_109[0][0]    \n__________________________________________________________________________________________________\nactivation_112 (Activation)     (None, 7, 7, 32)     0           batch_normalization_112[0][0]    \n__________________________________________________________________________________________________\nactivation_117 (Activation)     (None, 7, 7, 32)     0           batch_normalization_117[0][0]    \n__________________________________________________________________________________________________\nactivation_118 (Activation)     (None, 7, 7, 32)     0           batch_normalization_118[0][0]    \n__________________________________________________________________________________________________\nmixed2 (Concatenate)            (None, 7, 7, 128)    0           activation_109[0][0]             \n                                                                 activation_112[0][0]             \n                                                                 activation_117[0][0]             \n                                                                 activation_118[0][0]             \n__________________________________________________________________________________________________\nconv2d_121 (Conv2D)             (None, 7, 7, 32)     4096        mixed2[0][0]                     \n__________________________________________________________________________________________________\nbatch_normalization_121 (BatchN (None, 7, 7, 32)     96          conv2d_121[0][0]                 \n__________________________________________________________________________________________________\nactivation_121 (Activation)     (None, 7, 7, 32)     0           batch_normalization_121[0][0]    \n__________________________________________________________________________________________________\nconv2d_122 (Conv2D)             (None, 7, 7, 32)     7168        activation_121[0][0]             \n__________________________________________________________________________________________________\nbatch_normalization_122 (BatchN (None, 7, 7, 32)     96          conv2d_122[0][0]                 \n__________________________________________________________________________________________________\nactivation_122 (Activation)     (None, 7, 7, 32)     0           batch_normalization_122[0][0]    \n__________________________________________________________________________________________________\nconv2d_119 (Conv2D)             (None, 7, 7, 32)     4096        mixed2[0][0]                     \n__________________________________________________________________________________________________\nconv2d_123 (Conv2D)             (None, 7, 7, 32)     7168        activation_122[0][0]             \n__________________________________________________________________________________________________\nbatch_normalization_119 (BatchN (None, 7, 7, 32)     96          conv2d_119[0][0]                 \n__________________________________________________________________________________________________\nbatch_normalization_123 (BatchN (None, 7, 7, 32)     96          conv2d_123[0][0]                 \n__________________________________________________________________________________________________\nactivation_119 (Activation)     (None, 7, 7, 32)     0           batch_normalization_119[0][0]    \n__________________________________________________________________________________________________\nactivation_123 (Activation)     (None, 7, 7, 32)     0           batch_normalization_123[0][0]    \n__________________________________________________________________________________________________\nconv2d_120 (Conv2D)             (None, 3, 3, 64)     18432       activation_119[0][0]             \n__________________________________________________________________________________________________\nconv2d_124 (Conv2D)             (None, 3, 3, 32)     9216        activation_123[0][0]             \n__________________________________________________________________________________________________\nbatch_normalization_120 (BatchN (None, 3, 3, 64)     192         conv2d_120[0][0]                 \n__________________________________________________________________________________________________\nbatch_normalization_124 (BatchN (None, 3, 3, 32)     96          conv2d_124[0][0]                 \n__________________________________________________________________________________________________\nactivation_120 (Activation)     (None, 3, 3, 64)     0           batch_normalization_120[0][0]    \n__________________________________________________________________________________________________\nactivation_124 (Activation)     (None, 3, 3, 32)     0           batch_normalization_124[0][0]    \n__________________________________________________________________________________________________\nmax_pooling2d_14 (MaxPooling2D) (None, 3, 3, 128)    0           mixed2[0][0]                     \n__________________________________________________________________________________________________\nmixed3 (Concatenate)            (None, 3, 3, 224)    0           activation_120[0][0]             \n                                                                 activation_124[0][0]             \n                                                                 max_pooling2d_14[0][0]           \n__________________________________________________________________________________________________\nconv2d_128 (Conv2D)             (None, 3, 3, 32)     7168        mixed3[0][0]                     \n__________________________________________________________________________________________________\nbatch_normalization_128 (BatchN (None, 3, 3, 32)     96          conv2d_128[0][0]                 \n__________________________________________________________________________________________________\nactivation_128 (Activation)     (None, 3, 3, 32)     0           batch_normalization_128[0][0]    \n__________________________________________________________________________________________________\nconv2d_125 (Conv2D)             (None, 3, 3, 32)     7168        mixed3[0][0]                     \n__________________________________________________________________________________________________\nconv2d_129 (Conv2D)             (None, 3, 3, 32)     9216        activation_128[0][0]             \n__________________________________________________________________________________________________\nbatch_normalization_125 (BatchN (None, 3, 3, 32)     96          conv2d_125[0][0]                 \n__________________________________________________________________________________________________\nbatch_normalization_129 (BatchN (None, 3, 3, 32)     96          conv2d_129[0][0]                 \n__________________________________________________________________________________________________\nactivation_125 (Activation)     (None, 3, 3, 32)     0           batch_normalization_125[0][0]    \n__________________________________________________________________________________________________\nactivation_129 (Activation)     (None, 3, 3, 32)     0           batch_normalization_129[0][0]    \n__________________________________________________________________________________________________\nconv2d_126 (Conv2D)             (None, 3, 3, 32)     3072        activation_125[0][0]             \n__________________________________________________________________________________________________\nconv2d_127 (Conv2D)             (None, 3, 3, 32)     3072        activation_125[0][0]             \n__________________________________________________________________________________________________\nconv2d_130 (Conv2D)             (None, 3, 3, 32)     3072        activation_129[0][0]             \n__________________________________________________________________________________________________\nconv2d_131 (Conv2D)             (None, 3, 3, 32)     3072        activation_129[0][0]             \n__________________________________________________________________________________________________\naverage_pooling2d_12 (AveragePo (None, 3, 3, 224)    0           mixed3[0][0]                     \n__________________________________________________________________________________________________\nvalidcheck_conv (Conv2D)        (None, 3, 3, 32)     7168        mixed3[0][0]                     \n__________________________________________________________________________________________________\nbatch_normalization_126 (BatchN (None, 3, 3, 32)     96          conv2d_126[0][0]                 \n__________________________________________________________________________________________________\nbatch_normalization_127 (BatchN (None, 3, 3, 32)     96          conv2d_127[0][0]                 \n__________________________________________________________________________________________________\nbatch_normalization_130 (BatchN (None, 3, 3, 32)     96          conv2d_130[0][0]                 \n__________________________________________________________________________________________________\nbatch_normalization_131 (BatchN (None, 3, 3, 32)     96          conv2d_131[0][0]                 \n__________________________________________________________________________________________________\nconv2d_132 (Conv2D)             (None, 3, 3, 32)     7168        average_pooling2d_12[0][0]       \n__________________________________________________________________________________________________\nvalidcheck_bn (BatchNormalizati (None, 3, 3, 32)     96          validcheck_conv[0][0]            \n__________________________________________________________________________________________________\nactivation_126 (Activation)     (None, 3, 3, 32)     0           batch_normalization_126[0][0]    \n__________________________________________________________________________________________________\nactivation_127 (Activation)     (None, 3, 3, 32)     0           batch_normalization_127[0][0]    \n__________________________________________________________________________________________________\nactivation_130 (Activation)     (None, 3, 3, 32)     0           batch_normalization_130[0][0]    \n__________________________________________________________________________________________________\nactivation_131 (Activation)     (None, 3, 3, 32)     0           batch_normalization_131[0][0]    \n__________________________________________________________________________________________________\nbatch_normalization_132 (BatchN (None, 3, 3, 32)     96          conv2d_132[0][0]                 \n__________________________________________________________________________________________________\nvalidcheck (Activation)         (None, 3, 3, 32)     0           validcheck_bn[0][0]              \n__________________________________________________________________________________________________\nmixed4 (Concatenate)            (None, 3, 3, 64)     0           activation_126[0][0]             \n                                                                 activation_127[0][0]             \n__________________________________________________________________________________________________\nconcatenate_3 (Concatenate)     (None, 3, 3, 64)     0           activation_130[0][0]             \n                                                                 activation_131[0][0]             \n__________________________________________________________________________________________________\nactivation_132 (Activation)     (None, 3, 3, 32)     0           batch_normalization_132[0][0]    \n__________________________________________________________________________________________________\nmixed5 (Concatenate)            (None, 3, 3, 192)    0           validcheck[0][0]                 \n                                                                 mixed4[0][0]                     \n                                                                 concatenate_3[0][0]              \n                                                                 activation_132[0][0]             \n__________________________________________________________________________________________________\naverage_pooling2d_13 (AveragePo (None, 1, 1, 192)    0           mixed5[0][0]                     \n__________________________________________________________________________________________________\ndropout_3 (Dropout)             (None, 1, 1, 192)    0           average_pooling2d_13[0][0]       \n__________________________________________________________________________________________________\navg_pool (GlobalAveragePooling2 (None, 192)          0           dropout_3[0][0]                  \n__________________________________________________________________________________________________\ndense_3 (Dense)                 (None, 64)           12352       avg_pool[0][0]                   \n__________________________________________________________________________________________________\npredictions (Dense)             (None, 10)           650         dense_3[0][0]                    \n==================================================================================================\nTotal params: 157,584\nTrainable params: 155,748\nNon-trainable params: 1,836\n__________________________________________________________________________________________________\n",
          "name": "stdout"
        }
      ]
    },
    {
      "metadata": {
        "trusted": true,
        "_uuid": "cae8745484e5cdc6782035a054588502b40707e2"
      },
      "cell_type": "code",
      "source": "model.compile(optimizer='rmsprop', loss='categorical_crossentropy', metrics=['accuracy'])",
      "execution_count": 31,
      "outputs": []
    },
    {
      "metadata": {
        "_uuid": "74305a049b2adb874ceb83e875e4404bfce8ce1e"
      },
      "cell_type": "markdown",
      "source": "Fiting the training set to the model. \n\nHere I am using epochs = 5, for better accuracy change it to 10 or more. "
    },
    {
      "metadata": {
        "trusted": true,
        "_uuid": "81393e37f80a11b3b62d2715d37fc0ed184ae2dd"
      },
      "cell_type": "code",
      "source": "modelfit = model.fit(x=train_in, y=labels_one_hot_test, batch_size=100, epochs=5, verbose=1, callbacks=None, validation_split=0, validation_data=None, shuffle=True, class_weight=None, sample_weight=None, initial_epoch=0, steps_per_epoch=None, validation_steps=None)",
      "execution_count": 23,
      "outputs": [
        {
          "output_type": "stream",
          "text": "Epoch 1/5\n10800/77985 [===>..........................] - ETA: 10:16 - loss: 0.5734 - acc: 0.8332",
          "name": "stdout"
        },
        {
          "output_type": "error",
          "ename": "KeyboardInterrupt",
          "evalue": "",
          "traceback": [
            "\u001b[0;31m---------------------------------------------------------------------------\u001b[0m",
            "\u001b[0;31mKeyboardInterrupt\u001b[0m                         Traceback (most recent call last)",
            "\u001b[0;32m<ipython-input-23-b767bf6dd519>\u001b[0m in \u001b[0;36m<module>\u001b[0;34m()\u001b[0m\n\u001b[0;32m----> 1\u001b[0;31m \u001b[0mmodelfit\u001b[0m \u001b[0;34m=\u001b[0m \u001b[0mmodel\u001b[0m\u001b[0;34m.\u001b[0m\u001b[0mfit\u001b[0m\u001b[0;34m(\u001b[0m\u001b[0mx\u001b[0m\u001b[0;34m=\u001b[0m\u001b[0mtrain_in\u001b[0m\u001b[0;34m,\u001b[0m \u001b[0my\u001b[0m\u001b[0;34m=\u001b[0m\u001b[0mlabels_one_hot_test\u001b[0m\u001b[0;34m,\u001b[0m \u001b[0mbatch_size\u001b[0m\u001b[0;34m=\u001b[0m\u001b[0;36m100\u001b[0m\u001b[0;34m,\u001b[0m \u001b[0mepochs\u001b[0m\u001b[0;34m=\u001b[0m\u001b[0;36m5\u001b[0m\u001b[0;34m,\u001b[0m \u001b[0mverbose\u001b[0m\u001b[0;34m=\u001b[0m\u001b[0;36m1\u001b[0m\u001b[0;34m,\u001b[0m \u001b[0mcallbacks\u001b[0m\u001b[0;34m=\u001b[0m\u001b[0;32mNone\u001b[0m\u001b[0;34m,\u001b[0m \u001b[0mvalidation_split\u001b[0m\u001b[0;34m=\u001b[0m\u001b[0;36m0\u001b[0m\u001b[0;34m,\u001b[0m \u001b[0mvalidation_data\u001b[0m\u001b[0;34m=\u001b[0m\u001b[0;32mNone\u001b[0m\u001b[0;34m,\u001b[0m \u001b[0mshuffle\u001b[0m\u001b[0;34m=\u001b[0m\u001b[0;32mTrue\u001b[0m\u001b[0;34m,\u001b[0m \u001b[0mclass_weight\u001b[0m\u001b[0;34m=\u001b[0m\u001b[0;32mNone\u001b[0m\u001b[0;34m,\u001b[0m \u001b[0msample_weight\u001b[0m\u001b[0;34m=\u001b[0m\u001b[0;32mNone\u001b[0m\u001b[0;34m,\u001b[0m \u001b[0minitial_epoch\u001b[0m\u001b[0;34m=\u001b[0m\u001b[0;36m0\u001b[0m\u001b[0;34m,\u001b[0m \u001b[0msteps_per_epoch\u001b[0m\u001b[0;34m=\u001b[0m\u001b[0;32mNone\u001b[0m\u001b[0;34m,\u001b[0m \u001b[0mvalidation_steps\u001b[0m\u001b[0;34m=\u001b[0m\u001b[0;32mNone\u001b[0m\u001b[0;34m)\u001b[0m\u001b[0;34m\u001b[0m\u001b[0m\n\u001b[0m",
            "\u001b[0;32m/opt/conda/lib/python3.6/site-packages/keras/engine/training.py\u001b[0m in \u001b[0;36mfit\u001b[0;34m(self, x, y, batch_size, epochs, verbose, callbacks, validation_split, validation_data, shuffle, class_weight, sample_weight, initial_epoch, steps_per_epoch, validation_steps, **kwargs)\u001b[0m\n\u001b[1;32m   1035\u001b[0m                                         \u001b[0minitial_epoch\u001b[0m\u001b[0;34m=\u001b[0m\u001b[0minitial_epoch\u001b[0m\u001b[0;34m,\u001b[0m\u001b[0;34m\u001b[0m\u001b[0m\n\u001b[1;32m   1036\u001b[0m                                         \u001b[0msteps_per_epoch\u001b[0m\u001b[0;34m=\u001b[0m\u001b[0msteps_per_epoch\u001b[0m\u001b[0;34m,\u001b[0m\u001b[0;34m\u001b[0m\u001b[0m\n\u001b[0;32m-> 1037\u001b[0;31m                                         validation_steps=validation_steps)\n\u001b[0m\u001b[1;32m   1038\u001b[0m \u001b[0;34m\u001b[0m\u001b[0m\n\u001b[1;32m   1039\u001b[0m     def evaluate(self, x=None, y=None,\n",
            "\u001b[0;32m/opt/conda/lib/python3.6/site-packages/keras/engine/training_arrays.py\u001b[0m in \u001b[0;36mfit_loop\u001b[0;34m(model, f, ins, out_labels, batch_size, epochs, verbose, callbacks, val_f, val_ins, shuffle, callback_metrics, initial_epoch, steps_per_epoch, validation_steps)\u001b[0m\n\u001b[1;32m    197\u001b[0m                     \u001b[0mins_batch\u001b[0m\u001b[0;34m[\u001b[0m\u001b[0mi\u001b[0m\u001b[0;34m]\u001b[0m \u001b[0;34m=\u001b[0m \u001b[0mins_batch\u001b[0m\u001b[0;34m[\u001b[0m\u001b[0mi\u001b[0m\u001b[0;34m]\u001b[0m\u001b[0;34m.\u001b[0m\u001b[0mtoarray\u001b[0m\u001b[0;34m(\u001b[0m\u001b[0;34m)\u001b[0m\u001b[0;34m\u001b[0m\u001b[0m\n\u001b[1;32m    198\u001b[0m \u001b[0;34m\u001b[0m\u001b[0m\n\u001b[0;32m--> 199\u001b[0;31m                 \u001b[0mouts\u001b[0m \u001b[0;34m=\u001b[0m \u001b[0mf\u001b[0m\u001b[0;34m(\u001b[0m\u001b[0mins_batch\u001b[0m\u001b[0;34m)\u001b[0m\u001b[0;34m\u001b[0m\u001b[0m\n\u001b[0m\u001b[1;32m    200\u001b[0m                 \u001b[0mouts\u001b[0m \u001b[0;34m=\u001b[0m \u001b[0mto_list\u001b[0m\u001b[0;34m(\u001b[0m\u001b[0mouts\u001b[0m\u001b[0;34m)\u001b[0m\u001b[0;34m\u001b[0m\u001b[0m\n\u001b[1;32m    201\u001b[0m                 \u001b[0;32mfor\u001b[0m \u001b[0ml\u001b[0m\u001b[0;34m,\u001b[0m \u001b[0mo\u001b[0m \u001b[0;32min\u001b[0m \u001b[0mzip\u001b[0m\u001b[0;34m(\u001b[0m\u001b[0mout_labels\u001b[0m\u001b[0;34m,\u001b[0m \u001b[0mouts\u001b[0m\u001b[0;34m)\u001b[0m\u001b[0;34m:\u001b[0m\u001b[0;34m\u001b[0m\u001b[0m\n",
            "\u001b[0;32m/opt/conda/lib/python3.6/site-packages/keras/backend/tensorflow_backend.py\u001b[0m in \u001b[0;36m__call__\u001b[0;34m(self, inputs)\u001b[0m\n\u001b[1;32m   2664\u001b[0m                 \u001b[0;32mreturn\u001b[0m \u001b[0mself\u001b[0m\u001b[0;34m.\u001b[0m\u001b[0m_legacy_call\u001b[0m\u001b[0;34m(\u001b[0m\u001b[0minputs\u001b[0m\u001b[0;34m)\u001b[0m\u001b[0;34m\u001b[0m\u001b[0m\n\u001b[1;32m   2665\u001b[0m \u001b[0;34m\u001b[0m\u001b[0m\n\u001b[0;32m-> 2666\u001b[0;31m             \u001b[0;32mreturn\u001b[0m \u001b[0mself\u001b[0m\u001b[0;34m.\u001b[0m\u001b[0m_call\u001b[0m\u001b[0;34m(\u001b[0m\u001b[0minputs\u001b[0m\u001b[0;34m)\u001b[0m\u001b[0;34m\u001b[0m\u001b[0m\n\u001b[0m\u001b[1;32m   2667\u001b[0m         \u001b[0;32melse\u001b[0m\u001b[0;34m:\u001b[0m\u001b[0;34m\u001b[0m\u001b[0m\n\u001b[1;32m   2668\u001b[0m             \u001b[0;32mif\u001b[0m \u001b[0mpy_any\u001b[0m\u001b[0;34m(\u001b[0m\u001b[0mis_tensor\u001b[0m\u001b[0;34m(\u001b[0m\u001b[0mx\u001b[0m\u001b[0;34m)\u001b[0m \u001b[0;32mfor\u001b[0m \u001b[0mx\u001b[0m \u001b[0;32min\u001b[0m \u001b[0minputs\u001b[0m\u001b[0;34m)\u001b[0m\u001b[0;34m:\u001b[0m\u001b[0;34m\u001b[0m\u001b[0m\n",
            "\u001b[0;32m/opt/conda/lib/python3.6/site-packages/keras/backend/tensorflow_backend.py\u001b[0m in \u001b[0;36m_call\u001b[0;34m(self, inputs)\u001b[0m\n\u001b[1;32m   2634\u001b[0m                                 \u001b[0msymbol_vals\u001b[0m\u001b[0;34m,\u001b[0m\u001b[0;34m\u001b[0m\u001b[0m\n\u001b[1;32m   2635\u001b[0m                                 session)\n\u001b[0;32m-> 2636\u001b[0;31m         \u001b[0mfetched\u001b[0m \u001b[0;34m=\u001b[0m \u001b[0mself\u001b[0m\u001b[0;34m.\u001b[0m\u001b[0m_callable_fn\u001b[0m\u001b[0;34m(\u001b[0m\u001b[0;34m*\u001b[0m\u001b[0marray_vals\u001b[0m\u001b[0;34m)\u001b[0m\u001b[0;34m\u001b[0m\u001b[0m\n\u001b[0m\u001b[1;32m   2637\u001b[0m         \u001b[0;32mreturn\u001b[0m \u001b[0mfetched\u001b[0m\u001b[0;34m[\u001b[0m\u001b[0;34m:\u001b[0m\u001b[0mlen\u001b[0m\u001b[0;34m(\u001b[0m\u001b[0mself\u001b[0m\u001b[0;34m.\u001b[0m\u001b[0moutputs\u001b[0m\u001b[0;34m)\u001b[0m\u001b[0;34m]\u001b[0m\u001b[0;34m\u001b[0m\u001b[0m\n\u001b[1;32m   2638\u001b[0m \u001b[0;34m\u001b[0m\u001b[0m\n",
            "\u001b[0;32m/opt/conda/lib/python3.6/site-packages/tensorflow/python/client/session.py\u001b[0m in \u001b[0;36m__call__\u001b[0;34m(self, *args, **kwargs)\u001b[0m\n\u001b[1;32m   1395\u001b[0m           ret = tf_session.TF_SessionRunCallable(\n\u001b[1;32m   1396\u001b[0m               \u001b[0mself\u001b[0m\u001b[0;34m.\u001b[0m\u001b[0m_session\u001b[0m\u001b[0;34m.\u001b[0m\u001b[0m_session\u001b[0m\u001b[0;34m,\u001b[0m \u001b[0mself\u001b[0m\u001b[0;34m.\u001b[0m\u001b[0m_handle\u001b[0m\u001b[0;34m,\u001b[0m \u001b[0margs\u001b[0m\u001b[0;34m,\u001b[0m \u001b[0mstatus\u001b[0m\u001b[0;34m,\u001b[0m\u001b[0;34m\u001b[0m\u001b[0m\n\u001b[0;32m-> 1397\u001b[0;31m               run_metadata_ptr)\n\u001b[0m\u001b[1;32m   1398\u001b[0m         \u001b[0;32mif\u001b[0m \u001b[0mrun_metadata\u001b[0m\u001b[0;34m:\u001b[0m\u001b[0;34m\u001b[0m\u001b[0m\n\u001b[1;32m   1399\u001b[0m           \u001b[0mproto_data\u001b[0m \u001b[0;34m=\u001b[0m \u001b[0mtf_session\u001b[0m\u001b[0;34m.\u001b[0m\u001b[0mTF_GetBuffer\u001b[0m\u001b[0;34m(\u001b[0m\u001b[0mrun_metadata_ptr\u001b[0m\u001b[0;34m)\u001b[0m\u001b[0;34m\u001b[0m\u001b[0m\n",
            "\u001b[0;31mKeyboardInterrupt\u001b[0m: "
          ]
        }
      ]
    },
    {
      "metadata": {
        "_uuid": "10d84584266cd98cbde6991847f0920cb7853137"
      },
      "cell_type": "markdown",
      "source": "**Data Augumentation: **\n\nCreating new examples can be done through data augementation by rotating the image or by zooming the image. ImageDataGenerator which is available in keras.preprocessing.image used here to perform the data augemenation. Rotation, Zoom, width shift and height shift are enabled. \n\nAfter defining the parameters and generating the new examples these new examples are again fitted to the model "
    },
    {
      "metadata": {
        "trusted": true,
        "_uuid": "0a361948e5e40862e2087c42c6dd301ae442bf4a"
      },
      "cell_type": "code",
      "source": "datagen = ImageDataGenerator(\n        featurewise_center=False,  # set input mean to 0 over the dataset\n        samplewise_center=False,  # set each sample mean to 0\n        featurewise_std_normalization=False,  # divide inputs by std of the dataset\n        samplewise_std_normalization=False,  # divide each input by its std\n        zca_whitening=False,  # apply ZCA whitening\n        rotation_range=15,  # randomly rotate images in the range (degrees, 0 to 180)\n        zoom_range = 0.15, # Randomly zoom image \n        width_shift_range=0.15,  # randomly shift images horizontally (fraction of total width)\n        height_shift_range=0.15,  # randomly shift images vertically (fraction of total height)\n        horizontal_flip=False,  # randomly flip images\n        vertical_flip=False)  # randomly flip images\n",
      "execution_count": 27,
      "outputs": []
    },
    {
      "metadata": {
        "trusted": true,
        "_uuid": "ccf40b9c9502405d25eb82d7d729a77951060471"
      },
      "cell_type": "code",
      "source": "datagen.fit(train_in)",
      "execution_count": 28,
      "outputs": []
    },
    {
      "metadata": {
        "trusted": true,
        "_uuid": "9f2ef30deebe8d1e8445e1be16f14ca86228166e"
      },
      "cell_type": "code",
      "source": "modelfitwithdatagen = model.fit_generator(datagen.flow(train_in,labels_one_hot_test, batch_size=100),\n                              epochs = 5, validation_data = None,\n                              verbose = 1, steps_per_epoch=779)\n",
      "execution_count": 32,
      "outputs": [
        {
          "output_type": "stream",
          "text": "Epoch 1/5\n779/779 [==============================] - 693s 890ms/step - loss: 0.2525 - acc: 0.9207\nEpoch 2/5\n779/779 [==============================] - 676s 868ms/step - loss: 0.0802 - acc: 0.9755\nEpoch 3/5\n 87/779 [==>...........................] - ETA: 9:49 - loss: 0.0601 - acc: 0.9824",
          "name": "stdout"
        },
        {
          "output_type": "error",
          "ename": "KeyboardInterrupt",
          "evalue": "",
          "traceback": [
            "\u001b[0;31m---------------------------------------------------------------------------\u001b[0m",
            "\u001b[0;31mKeyboardInterrupt\u001b[0m                         Traceback (most recent call last)",
            "\u001b[0;32m<ipython-input-32-efacaaf39fcf>\u001b[0m in \u001b[0;36m<module>\u001b[0;34m()\u001b[0m\n\u001b[1;32m      1\u001b[0m modelfitwithdatagen = model.fit_generator(datagen.flow(train_in,labels_one_hot_test, batch_size=100),\n\u001b[1;32m      2\u001b[0m                               \u001b[0mepochs\u001b[0m \u001b[0;34m=\u001b[0m \u001b[0;36m5\u001b[0m\u001b[0;34m,\u001b[0m \u001b[0mvalidation_data\u001b[0m \u001b[0;34m=\u001b[0m \u001b[0;32mNone\u001b[0m\u001b[0;34m,\u001b[0m\u001b[0;34m\u001b[0m\u001b[0m\n\u001b[0;32m----> 3\u001b[0;31m                               verbose = 1, steps_per_epoch=779)\n\u001b[0m",
            "\u001b[0;32m/opt/conda/lib/python3.6/site-packages/keras/legacy/interfaces.py\u001b[0m in \u001b[0;36mwrapper\u001b[0;34m(*args, **kwargs)\u001b[0m\n\u001b[1;32m     89\u001b[0m                 warnings.warn('Update your `' + object_name +\n\u001b[1;32m     90\u001b[0m                               '` call to the Keras 2 API: ' + signature, stacklevel=2)\n\u001b[0;32m---> 91\u001b[0;31m             \u001b[0;32mreturn\u001b[0m \u001b[0mfunc\u001b[0m\u001b[0;34m(\u001b[0m\u001b[0;34m*\u001b[0m\u001b[0margs\u001b[0m\u001b[0;34m,\u001b[0m \u001b[0;34m**\u001b[0m\u001b[0mkwargs\u001b[0m\u001b[0;34m)\u001b[0m\u001b[0;34m\u001b[0m\u001b[0m\n\u001b[0m\u001b[1;32m     92\u001b[0m         \u001b[0mwrapper\u001b[0m\u001b[0;34m.\u001b[0m\u001b[0m_original_function\u001b[0m \u001b[0;34m=\u001b[0m \u001b[0mfunc\u001b[0m\u001b[0;34m\u001b[0m\u001b[0m\n\u001b[1;32m     93\u001b[0m         \u001b[0;32mreturn\u001b[0m \u001b[0mwrapper\u001b[0m\u001b[0;34m\u001b[0m\u001b[0m\n",
            "\u001b[0;32m/opt/conda/lib/python3.6/site-packages/keras/engine/training.py\u001b[0m in \u001b[0;36mfit_generator\u001b[0;34m(self, generator, steps_per_epoch, epochs, verbose, callbacks, validation_data, validation_steps, class_weight, max_queue_size, workers, use_multiprocessing, shuffle, initial_epoch)\u001b[0m\n\u001b[1;32m   1413\u001b[0m             \u001b[0muse_multiprocessing\u001b[0m\u001b[0;34m=\u001b[0m\u001b[0muse_multiprocessing\u001b[0m\u001b[0;34m,\u001b[0m\u001b[0;34m\u001b[0m\u001b[0m\n\u001b[1;32m   1414\u001b[0m             \u001b[0mshuffle\u001b[0m\u001b[0;34m=\u001b[0m\u001b[0mshuffle\u001b[0m\u001b[0;34m,\u001b[0m\u001b[0;34m\u001b[0m\u001b[0m\n\u001b[0;32m-> 1415\u001b[0;31m             initial_epoch=initial_epoch)\n\u001b[0m\u001b[1;32m   1416\u001b[0m \u001b[0;34m\u001b[0m\u001b[0m\n\u001b[1;32m   1417\u001b[0m     \u001b[0;34m@\u001b[0m\u001b[0minterfaces\u001b[0m\u001b[0;34m.\u001b[0m\u001b[0mlegacy_generator_methods_support\u001b[0m\u001b[0;34m\u001b[0m\u001b[0m\n",
            "\u001b[0;32m/opt/conda/lib/python3.6/site-packages/keras/engine/training_generator.py\u001b[0m in \u001b[0;36mfit_generator\u001b[0;34m(model, generator, steps_per_epoch, epochs, verbose, callbacks, validation_data, validation_steps, class_weight, max_queue_size, workers, use_multiprocessing, shuffle, initial_epoch)\u001b[0m\n\u001b[1;32m    211\u001b[0m                 outs = model.train_on_batch(x, y,\n\u001b[1;32m    212\u001b[0m                                             \u001b[0msample_weight\u001b[0m\u001b[0;34m=\u001b[0m\u001b[0msample_weight\u001b[0m\u001b[0;34m,\u001b[0m\u001b[0;34m\u001b[0m\u001b[0m\n\u001b[0;32m--> 213\u001b[0;31m                                             class_weight=class_weight)\n\u001b[0m\u001b[1;32m    214\u001b[0m \u001b[0;34m\u001b[0m\u001b[0m\n\u001b[1;32m    215\u001b[0m                 \u001b[0mouts\u001b[0m \u001b[0;34m=\u001b[0m \u001b[0mto_list\u001b[0m\u001b[0;34m(\u001b[0m\u001b[0mouts\u001b[0m\u001b[0;34m)\u001b[0m\u001b[0;34m\u001b[0m\u001b[0m\n",
            "\u001b[0;32m/opt/conda/lib/python3.6/site-packages/keras/engine/training.py\u001b[0m in \u001b[0;36mtrain_on_batch\u001b[0;34m(self, x, y, sample_weight, class_weight)\u001b[0m\n\u001b[1;32m   1213\u001b[0m             \u001b[0mins\u001b[0m \u001b[0;34m=\u001b[0m \u001b[0mx\u001b[0m \u001b[0;34m+\u001b[0m \u001b[0my\u001b[0m \u001b[0;34m+\u001b[0m \u001b[0msample_weights\u001b[0m\u001b[0;34m\u001b[0m\u001b[0m\n\u001b[1;32m   1214\u001b[0m         \u001b[0mself\u001b[0m\u001b[0;34m.\u001b[0m\u001b[0m_make_train_function\u001b[0m\u001b[0;34m(\u001b[0m\u001b[0;34m)\u001b[0m\u001b[0;34m\u001b[0m\u001b[0m\n\u001b[0;32m-> 1215\u001b[0;31m         \u001b[0moutputs\u001b[0m \u001b[0;34m=\u001b[0m \u001b[0mself\u001b[0m\u001b[0;34m.\u001b[0m\u001b[0mtrain_function\u001b[0m\u001b[0;34m(\u001b[0m\u001b[0mins\u001b[0m\u001b[0;34m)\u001b[0m\u001b[0;34m\u001b[0m\u001b[0m\n\u001b[0m\u001b[1;32m   1216\u001b[0m         \u001b[0;32mreturn\u001b[0m \u001b[0munpack_singleton\u001b[0m\u001b[0;34m(\u001b[0m\u001b[0moutputs\u001b[0m\u001b[0;34m)\u001b[0m\u001b[0;34m\u001b[0m\u001b[0m\n\u001b[1;32m   1217\u001b[0m \u001b[0;34m\u001b[0m\u001b[0m\n",
            "\u001b[0;32m/opt/conda/lib/python3.6/site-packages/keras/backend/tensorflow_backend.py\u001b[0m in \u001b[0;36m__call__\u001b[0;34m(self, inputs)\u001b[0m\n\u001b[1;32m   2664\u001b[0m                 \u001b[0;32mreturn\u001b[0m \u001b[0mself\u001b[0m\u001b[0;34m.\u001b[0m\u001b[0m_legacy_call\u001b[0m\u001b[0;34m(\u001b[0m\u001b[0minputs\u001b[0m\u001b[0;34m)\u001b[0m\u001b[0;34m\u001b[0m\u001b[0m\n\u001b[1;32m   2665\u001b[0m \u001b[0;34m\u001b[0m\u001b[0m\n\u001b[0;32m-> 2666\u001b[0;31m             \u001b[0;32mreturn\u001b[0m \u001b[0mself\u001b[0m\u001b[0;34m.\u001b[0m\u001b[0m_call\u001b[0m\u001b[0;34m(\u001b[0m\u001b[0minputs\u001b[0m\u001b[0;34m)\u001b[0m\u001b[0;34m\u001b[0m\u001b[0m\n\u001b[0m\u001b[1;32m   2667\u001b[0m         \u001b[0;32melse\u001b[0m\u001b[0;34m:\u001b[0m\u001b[0;34m\u001b[0m\u001b[0m\n\u001b[1;32m   2668\u001b[0m             \u001b[0;32mif\u001b[0m \u001b[0mpy_any\u001b[0m\u001b[0;34m(\u001b[0m\u001b[0mis_tensor\u001b[0m\u001b[0;34m(\u001b[0m\u001b[0mx\u001b[0m\u001b[0;34m)\u001b[0m \u001b[0;32mfor\u001b[0m \u001b[0mx\u001b[0m \u001b[0;32min\u001b[0m \u001b[0minputs\u001b[0m\u001b[0;34m)\u001b[0m\u001b[0;34m:\u001b[0m\u001b[0;34m\u001b[0m\u001b[0m\n",
            "\u001b[0;32m/opt/conda/lib/python3.6/site-packages/keras/backend/tensorflow_backend.py\u001b[0m in \u001b[0;36m_call\u001b[0;34m(self, inputs)\u001b[0m\n\u001b[1;32m   2634\u001b[0m                                 \u001b[0msymbol_vals\u001b[0m\u001b[0;34m,\u001b[0m\u001b[0;34m\u001b[0m\u001b[0m\n\u001b[1;32m   2635\u001b[0m                                 session)\n\u001b[0;32m-> 2636\u001b[0;31m         \u001b[0mfetched\u001b[0m \u001b[0;34m=\u001b[0m \u001b[0mself\u001b[0m\u001b[0;34m.\u001b[0m\u001b[0m_callable_fn\u001b[0m\u001b[0;34m(\u001b[0m\u001b[0;34m*\u001b[0m\u001b[0marray_vals\u001b[0m\u001b[0;34m)\u001b[0m\u001b[0;34m\u001b[0m\u001b[0m\n\u001b[0m\u001b[1;32m   2637\u001b[0m         \u001b[0;32mreturn\u001b[0m \u001b[0mfetched\u001b[0m\u001b[0;34m[\u001b[0m\u001b[0;34m:\u001b[0m\u001b[0mlen\u001b[0m\u001b[0;34m(\u001b[0m\u001b[0mself\u001b[0m\u001b[0;34m.\u001b[0m\u001b[0moutputs\u001b[0m\u001b[0;34m)\u001b[0m\u001b[0;34m]\u001b[0m\u001b[0;34m\u001b[0m\u001b[0m\n\u001b[1;32m   2638\u001b[0m \u001b[0;34m\u001b[0m\u001b[0m\n",
            "\u001b[0;32m/opt/conda/lib/python3.6/site-packages/tensorflow/python/client/session.py\u001b[0m in \u001b[0;36m__call__\u001b[0;34m(self, *args, **kwargs)\u001b[0m\n\u001b[1;32m   1395\u001b[0m           ret = tf_session.TF_SessionRunCallable(\n\u001b[1;32m   1396\u001b[0m               \u001b[0mself\u001b[0m\u001b[0;34m.\u001b[0m\u001b[0m_session\u001b[0m\u001b[0;34m.\u001b[0m\u001b[0m_session\u001b[0m\u001b[0;34m,\u001b[0m \u001b[0mself\u001b[0m\u001b[0;34m.\u001b[0m\u001b[0m_handle\u001b[0m\u001b[0;34m,\u001b[0m \u001b[0margs\u001b[0m\u001b[0;34m,\u001b[0m \u001b[0mstatus\u001b[0m\u001b[0;34m,\u001b[0m\u001b[0;34m\u001b[0m\u001b[0m\n\u001b[0;32m-> 1397\u001b[0;31m               run_metadata_ptr)\n\u001b[0m\u001b[1;32m   1398\u001b[0m         \u001b[0;32mif\u001b[0m \u001b[0mrun_metadata\u001b[0m\u001b[0;34m:\u001b[0m\u001b[0;34m\u001b[0m\u001b[0m\n\u001b[1;32m   1399\u001b[0m           \u001b[0mproto_data\u001b[0m \u001b[0;34m=\u001b[0m \u001b[0mtf_session\u001b[0m\u001b[0;34m.\u001b[0m\u001b[0mTF_GetBuffer\u001b[0m\u001b[0;34m(\u001b[0m\u001b[0mrun_metadata_ptr\u001b[0m\u001b[0;34m)\u001b[0m\u001b[0;34m\u001b[0m\u001b[0m\n",
            "\u001b[0;31mKeyboardInterrupt\u001b[0m: "
          ]
        }
      ]
    },
    {
      "metadata": {
        "_uuid": "4417c4f7144f2e28ed3403bdac40ae3b664609e0"
      },
      "cell_type": "markdown",
      "source": "**Predictions and submissions**\n\n"
    },
    {
      "metadata": {
        "trusted": true,
        "collapsed": true,
        "_uuid": "3b03ac253d42bc655dbddb8dbb5a5ba4400dc434"
      },
      "cell_type": "code",
      "source": "pred = model.predict(test_in)\n\npred_val = np.argmax(pred,axis=1)\n\nresults = pd.Series(pred_val,name=\"Label\")",
      "execution_count": null,
      "outputs": []
    },
    {
      "metadata": {
        "trusted": true,
        "collapsed": true,
        "_uuid": "b9d0f446ac0f7c9794c7e0d1db75103649612d71"
      },
      "cell_type": "code",
      "source": "submission = pd.concat([pd.Series(range(1,pred_val.shape[0]+1),name = \"ImageId\"),results],axis = 1)\n\nsubmission.to_csv(\"Results.csv\",index=False)\n",
      "execution_count": null,
      "outputs": []
    },
    {
      "metadata": {
        "trusted": true,
        "collapsed": true,
        "_uuid": "6db7ea997e361d0ebd1111aa3c244b1a273aaf64"
      },
      "cell_type": "code",
      "source": "",
      "execution_count": null,
      "outputs": []
    }
  ],
  "metadata": {
    "kernelspec": {
      "display_name": "Python 3",
      "language": "python",
      "name": "python3"
    },
    "language_info": {
      "name": "python",
      "version": "3.6.6",
      "mimetype": "text/x-python",
      "codemirror_mode": {
        "name": "ipython",
        "version": 3
      },
      "pygments_lexer": "ipython3",
      "nbconvert_exporter": "python",
      "file_extension": ".py"
    }
  },
  "nbformat": 4,
  "nbformat_minor": 1
}